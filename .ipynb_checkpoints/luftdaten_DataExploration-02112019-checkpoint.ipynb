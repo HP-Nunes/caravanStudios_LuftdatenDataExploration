{
 "cells": [
  {
   "attachments": {},
   "cell_type": "markdown",
   "metadata": {},
   "source": [
    "![](assets/csLogo.png)\n",
    "\n",
    "##### Hadrien N Picq\n",
    "###### Citizen Science Research Intern"
   ]
  },
  {
   "cell_type": "markdown",
   "metadata": {},
   "source": [
    "## Due: February ~~8th~~ 11th, 2018 @ ~~11 am~~ 8am\n",
    "*rescheduled meeting*"
   ]
  },
  {
   "cell_type": "markdown",
   "metadata": {},
   "source": [
    "## Asks:\n",
    "\n",
    "### I. Chart a trendline of Luftdaten's Air Quality data over an unspecified period of time (TBD on data availability);\n",
    "\n",
    "### II. Map Luftdaten's sensors. Select an area within the EU with a high density of sensor measurements;\n",
    "\n",
    "### III. Overlay sampling stations with data points of *public libraries*, and assess proximity between data points;\n",
    "\n",
    "### <span style=\"color:green\">*IV. Overlay relevant socio-economic demographic data over the area of interest, and explore potential corrolary relationships with air quality.*<span/>\n",
    "\n",
    "### <span style=\"color:green\">*V. Research which groups/programs/apps make use of Luftdaten's data, i.e. research prior case studies;*<span/>\n",
    "\n",
    "### <span style=\"color:green\">*VI. Note any pertinent thoughts to Environmental Impact Assessment.*<span/>"
   ]
  },
  {
   "cell_type": "markdown",
   "metadata": {},
   "source": [
    "---"
   ]
  },
  {
   "cell_type": "markdown",
   "metadata": {},
   "source": [
    "## Challenges\n",
    "\n",
    "* Working with such a large datafile a first experience;\n",
    "* Doing data analysis on a large dataset despite hardware limitations;\n",
    "* Properly configuring my computer's OS to smoothly run python packages and specialized software;\n",
    "* Parsing through a foreign language data-source without thorough metadata documentation;\n",
    "* Assessing the usability of available APIs for Luftdaten;\n",
    "* Searching for geospatial data: Germany's public libraries;\n",
    "* Properly interpreting the current data output."
   ]
  },
  {
   "cell_type": "markdown",
   "metadata": {},
   "source": [
    "## Positives"
   ]
  },
  {
   "cell_type": "markdown",
   "metadata": {},
   "source": [
    "* Success manipulating a large dataset by exporting it into a relational database (SQL);\n",
    "* Successful debugging of faulty python environment set-up, software compatibility issues;\n",
    "* Produced various visual data output which can be further expanded on;\n",
    "* Gained insights into Luftdaten's data collection and cataloging;\n",
    "* Gained an understanding of the spatial layout (globally) of Luftdaten's active sensors;\n",
    "* Despite not meeting all the asks within the first week, progress has been exponientially achieved."
   ]
  },
  {
   "cell_type": "markdown",
   "metadata": {},
   "source": [
    "---"
   ]
  },
  {
   "cell_type": "markdown",
   "metadata": {},
   "source": [
    "## Background on Data Retrievability"
   ]
  },
  {
   "attachments": {},
   "cell_type": "markdown",
   "metadata": {},
   "source": [
    "* The API provided does not seem to be configured to query temporal ranges: https://github.com/opendata-stuttgart/meta/wiki/APIs\n",
    "\n",
    "![Screenshot%20from%202019-02-05%2017-01-43.png](assets/luftdatenAPI.png)\n",
    "\n",
    "My guess is due to the very large volume of data collected (every minutes), the call requests limit would need to be either quite steep or the data would have to be preconfigured (i.e. averaged by hours or days) to be \"digestible\". To be fair to Luftdaten, API queries can be made to collect data collected within the last 5 minutes, and their archive of data does aggregate measurement by the days or the months. But I don't believe it's retrievable via APIs. \n",
    " \n",
    "* The API Client isn't yet configured to be quite user-friendly: https://github.com/opendata-stuttgart/feinstaub-api/issues/12\n",
    "\n",
    "\n",
    "* Data can be retrieved via the archive directory as csv files, aggregated either by days or months since October 2015: http://archive.luftdaten.info/\n",
    "\n",
    "\n",
    "* Furthermore, the data is categorized by sensor's type (see screenshot below). While Luftdaten has a wiki published on Github, its sections about sensor specifications is incomplete (https://github.com/opendata-stuttgart/meta/wiki/Datenbl%C3%A4tter-Spezifikationen). Sadly it does not concisely lists its metadata onto a page nor--preferrably--on a pdf document within the archive directory. Thus I had to research the various sensors to identify the parameters I am seeking to analyze.\n",
    "\n",
    "![Screenshot%20from%202019-02-05%2017-19-27.png](assets/luftdatenDataDirectory.png)\n",
    "\n",
    "These are the 3 sensors which are active in the greatest numbers, per Luftdaten's active sensors chart which can be accessed at https://api.luftdaten.info/static/v1/stats_active_sensors.svg\n",
    "\n",
    "\n",
    "> 1. [sds011](https://github.com/opendata-stuttgart/meta/blob/master/files/SDS011-V1.3.pdf): LASER PM2.5 SENSOR, \n",
    "measures PM2.5 & PM10\n",
    "> 2. [dht22](https://github.com/opendata-stuttgart/meta/blob/master/files/DHT22.pdf): DIGITAL-OUTPUT RELATIVE HUMIDITY & TEMPERATURE SENSOR/MODULE, measures temperature and humidity\n",
    "> 3. [bme280](https://www.bosch-sensortec.com/bst/products/all_products/bme280): INTEGRATED ENVIRONMENTAL UNITS, also measures temperature and humidity, although it can be worn as a wristband, so its location may not be as static as the dht22\n",
    "\n",
    "While there seems to be many other sensors measuring particulate matters, for the scope of my analysis I will limit myself to the data provided by the sds011 sensor.\n",
    "\n",
    "\n",
    "*As a footnote, [openSenseMap](https://opensensemap.org/) hosts a large number of open sensor data, including Luftdaten's, and provides a manual user interface to download data by map area (which can only be defined via zooming). However I found the interface to be lacking, and the sensor data I downloaded for a month's worth of measurement was so great that I could not effectively edit it in QGIS (partly because of the lack of granulirity in selecting an area to bound the volume of data).*"
   ]
  },
  {
   "cell_type": "markdown",
   "metadata": {},
   "source": [
    "---"
   ]
  },
  {
   "cell_type": "code",
   "execution_count": 2,
   "metadata": {},
   "outputs": [],
   "source": [
    "# Import all relevant packages here\n",
    "\n",
    "import pandas as pd\n",
    "import csv\n",
    "import matplotlib.pyplot as plt\n",
    "import seaborn as sns\n",
    "import numpy as np\n",
    "\n",
    "# import dask.dataframe as dd \n",
    "#     # Experimentation: can be used to read large csvs into panda, otherwise not useful\n",
    "\n",
    "import os\n",
    "from tqdm import tqdm #https://pypi.org/project/tqdm/#latest-pypi-stable-release\n",
    "\n",
    "from sqlalchemy import create_engine, inspect\n",
    "from sqlalchemy.ext.automap import automap_base\n",
    "from sqlalchemy.orm import Session\n",
    "import sqlite3\n",
    "\n",
    "import plotly.plotly as py\n",
    "import plotly.graph_objs as go"
   ]
  },
  {
   "cell_type": "markdown",
   "metadata": {},
   "source": [
    " ---"
   ]
  },
  {
   "cell_type": "markdown",
   "metadata": {},
   "source": [
    "### I. Charting Temporal trends"
   ]
  },
  {
   "cell_type": "code",
   "execution_count": 3,
   "metadata": {},
   "outputs": [
    {
     "name": "stderr",
     "output_type": "stream",
     "text": [
      "100it [17:46,  8.09s/it]"
     ]
    },
    {
     "name": "stdout",
     "output_type": "stream",
     "text": [
      "CPU times: user 16min 14s, sys: 41.2 s, total: 16min 55s\n",
      "Wall time: 17min 46s\n"
     ]
    },
    {
     "name": "stderr",
     "output_type": "stream",
     "text": [
      "\n"
     ]
    }
   ],
   "source": [
    "%%time\n",
    "\n",
    "# Reference: https://pythondata.com/working-large-csv-files-python/\n",
    "\n",
    "    \n",
    "    # !!!!!!!!!!!!!!!!!!!!!!!!!!!!!!!!! # ONE TIME process only! # !!!!!!!!!!!!!!!!!!!!!!!!!!!!!!!!! #\n",
    "                # Export CSV to a SQLITE DB, so that queries are manageable in-memory.\n",
    "    \n",
    "datatypes = {'sensor_id': 'int32',\n",
    "              'lat': 'float32', \n",
    "              'lon': 'float32',\n",
    "              'timestamp': 'str',\n",
    "              'P1': 'float32',\n",
    "              'P2': 'float32'} # Convert the datat types into \"smaller\" format, to compress on memory\n",
    "\n",
    "cols = list(datatypes.keys())\n",
    "\n",
    "chunksize = 10 ** 6 # Chuncking the csv by 1 million rows per iterations (for a csv doc with 99M rows!)\n",
    "\n",
    "file = 'raw/luftdaten_sds011_Jan2019.csv'\n",
    "\n",
    "csv_database = create_engine('sqlite:///csv_database.db') # Generated a 8.5GB file! (why?)\n",
    "\n",
    "i = 0\n",
    "j = 1\n",
    "for df in tqdm(pd.read_csv(file, sep=';', usecols=cols, dtype=datatypes, chunksize=chunksize, iterator=True)):\n",
    "      df = df.rename(columns={c: c.replace(' ', '') for c in df.columns}) \n",
    "      df.index += j\n",
    "      i+=1\n",
    "      df.to_sql('table', csv_database, if_exists='append')\n",
    "      j = df.index[-1] + 1"
   ]
  },
  {
   "cell_type": "code",
   "execution_count": 7,
   "metadata": {},
   "outputs": [
    {
     "name": "stdout",
     "output_type": "stream",
     "text": [
      "['table']\n",
      "index BIGINT\n",
      "sensor_id INTEGER\n",
      "lat FLOAT\n",
      "lon FLOAT\n",
      "timestamp TEXT\n",
      "P1 FLOAT\n",
      "P2 FLOAT\n"
     ]
    }
   ],
   "source": [
    "        # !!!!!!!!!!!!!!!! READ SQLITE Database HERE for all future manipulation !!!!!!!!!!!!!!!! #\n",
    "\n",
    "csv_database = create_engine('sqlite:///csv_database.db')\n",
    "inspector = inspect(csv_database)\n",
    "print(inspector.get_table_names())\n",
    "\n",
    "columns = inspector.get_columns('table')\n",
    "for column in columns:\n",
    "    print(column[\"name\"], column[\"type\"])"
   ]
  },
  {
   "cell_type": "code",
   "execution_count": 9,
   "metadata": {},
   "outputs": [
    {
     "name": "stdout",
     "output_type": "stream",
     "text": [
      "CPU times: user 607 µs, sys: 269 µs, total: 876 µs\n",
      "Wall time: 533 µs\n"
     ]
    }
   ],
   "source": [
    "%%time\n",
    "\n",
    "# Select relevant attributes from SQLITE table to chart time serie\n",
    "\n",
    "conn = sqlite3.connect(\"csv_database.db\")\n",
    "timeS_df = pd.read_sql_query(\"select timestamp, AVG(P1), AVG(P2) from 'table' group by timestamp\", conn)\n",
    "hist_df = pd.read_sql_query(\"select sensor_id, AVG(P1), AVG(P2) from 'table' group by sensor_id\", conn)\n",
    "map_df = pd.read_sql_query(\"select sensor_id, lat, lon from 'table' group by sensor_id\", conn)"
   ]
  },
  {
   "cell_type": "code",
   "execution_count": 39,
   "metadata": {},
   "outputs": [
    {
     "name": "stdout",
     "output_type": "stream",
     "text": [
      "timestamp    datetime64[ns]\n",
      "AVG(P1)             float64\n",
      "AVG(P2)             float64\n",
      "day                   int64\n",
      "dtype: object\n",
      "-----------------------------------------------\n"
     ]
    },
    {
     "data": {
      "text/html": [
       "<div>\n",
       "<style scoped>\n",
       "    .dataframe tbody tr th:only-of-type {\n",
       "        vertical-align: middle;\n",
       "    }\n",
       "\n",
       "    .dataframe tbody tr th {\n",
       "        vertical-align: top;\n",
       "    }\n",
       "\n",
       "    .dataframe thead th {\n",
       "        text-align: right;\n",
       "    }\n",
       "</style>\n",
       "<table border=\"1\" class=\"dataframe\">\n",
       "  <thead>\n",
       "    <tr style=\"text-align: right;\">\n",
       "      <th></th>\n",
       "      <th>day</th>\n",
       "      <th>AVG(P1)</th>\n",
       "      <th>AVG(P2)</th>\n",
       "    </tr>\n",
       "  </thead>\n",
       "  <tbody>\n",
       "    <tr>\n",
       "      <th>0</th>\n",
       "      <td>1</td>\n",
       "      <td>39.782160</td>\n",
       "      <td>21.356699</td>\n",
       "    </tr>\n",
       "    <tr>\n",
       "      <th>1</th>\n",
       "      <td>2</td>\n",
       "      <td>21.016411</td>\n",
       "      <td>8.946090</td>\n",
       "    </tr>\n",
       "    <tr>\n",
       "      <th>2</th>\n",
       "      <td>3</td>\n",
       "      <td>19.307217</td>\n",
       "      <td>9.869189</td>\n",
       "    </tr>\n",
       "    <tr>\n",
       "      <th>3</th>\n",
       "      <td>4</td>\n",
       "      <td>29.736251</td>\n",
       "      <td>16.414329</td>\n",
       "    </tr>\n",
       "    <tr>\n",
       "      <th>4</th>\n",
       "      <td>5</td>\n",
       "      <td>24.153731</td>\n",
       "      <td>12.933851</td>\n",
       "    </tr>\n",
       "  </tbody>\n",
       "</table>\n",
       "</div>"
      ],
      "text/plain": [
       "   day    AVG(P1)    AVG(P2)\n",
       "0    1  39.782160  21.356699\n",
       "1    2  21.016411   8.946090\n",
       "2    3  19.307217   9.869189\n",
       "3    4  29.736251  16.414329\n",
       "4    5  24.153731  12.933851"
      ]
     },
     "execution_count": 39,
     "metadata": {},
     "output_type": "execute_result"
    }
   ],
   "source": [
    "# Convert timestamp into datatime, splice the days\n",
    "timeS_df['timestamp'] = pd.to_datetime(timeS_df['timestamp'], format='%Y-%m-%d %H:%M:%S')\n",
    "timeS_df['day'] = timeS_df['timestamp'].dt.day\n",
    "print(timeS_df.dtypes)\n",
    "print('-----------------------------------------------')\n",
    "dayTimeSpm25 = timeS_df.groupby('day')['AVG(P1)'].mean() #PM2.5\n",
    "dayTimeSpm25 = pd.DataFrame(data=dayTimeSpm25)\n",
    "\n",
    "dayTimeSpm10 = timeS_df.groupby('day')['AVG(P2)'].mean() #PM10\n",
    "dayTimeSpm10 = pd.DataFrame(data=dayTimeSpm10)\n",
    "\n",
    "dayTimeS = dayTimeSpm25.join(dayTimeSpm10, lsuffix='_pm2.5', rsuffix='_pm10').reset_index()\n",
    "dayTimeS.head() # Joined dataframe with the measurement data averaged for each day"
   ]
  },
  {
   "cell_type": "code",
   "execution_count": 48,
   "metadata": {},
   "outputs": [
    {
     "data": {
      "image/png": "[encoded data removed]",
      "text/plain": [
       "<Figure size 432x288 with 1 Axes>"
      ]
     },
     "metadata": {},
     "output_type": "display_data"
    },
    {
     "data": {
      "text/plain": [
       "<Figure size 432x288 with 0 Axes>"
      ]
     },
     "metadata": {},
     "output_type": "display_data"
    }
   ],
   "source": [
    "# https://plot.ly/pandas/line-charts/\n",
    "\n",
    "#################### Using plotly\n",
    "import plotly.plotly as py\n",
    "import plotly.graph_objs as go\n",
    "\n",
    "x = dayTimeS['day']\n",
    "y = dayTimeS['AVG(P1)']\n",
    "df = pd.DataFrame({'x': x, 'y': y})\n",
    "df.head()\n",
    "\n",
    "x2 = dayTimeS['day']\n",
    "y2 = dayTimeS['AVG(P2)']\n",
    "df2 = pd.DataFrame({'x': x2, 'y': y2})\n",
    "df2.head()\n",
    "\n",
    "data = [\n",
    "    go.Scatter(\n",
    "        x=df['x'],\n",
    "        y=df['y'],\n",
    "        name='PM2.5'\n",
    "    ),\n",
    "    go.Scatter(\n",
    "        x=df2['x'],\n",
    "        y=df2['y'],\n",
    "        name='PM10'\n",
    "    )\n",
    "]\n",
    "\n",
    "url = plotly.offline.plot(data, filename='trendlines_Jan2019.html')\n",
    "\n",
    "\n",
    "#################### Using seaborn\n",
    "with plt.xkcd():\n",
    "\n",
    "    sns.set_style(\"whitegrid\")\n",
    "    plt.plot(dayTimeS['AVG(P1)'],color='blue',label=\"PM 2.5\")\n",
    "    plt.plot(dayTimeS['AVG(P2)'],color='red',label=\"PM10\")\n",
    "    plt.title('')\n",
    "    plt.xlabel('Days')\n",
    "    plt.ylabel('MicroMeter')\n",
    "    plt.legend(loc=2, ncol=1)\n",
    "\n",
    "    plt.show()\n",
    "\n",
    "    plt.savefig('outputs/timeSeries_Luftdaten.png')"
   ]
  },
  {
   "attachments": {},
   "cell_type": "markdown",
   "metadata": {},
   "source": [
    "Plotly's charts are interactive, although I could only save an html file (which is easily embeddable):\n",
    "![newplot%20%281%29.png](assets/plotlyTimeTrend.png)"
   ]
  },
  {
   "cell_type": "code",
   "execution_count": 10,
   "metadata": {},
   "outputs": [
    {
     "data": {
      "image/png": "[encoded data removed]",
      "text/plain": [
       "<Figure size 432x288 with 2 Axes>"
      ]
     },
     "metadata": {},
     "output_type": "display_data"
    },
    {
     "data": {
      "image/png": "[encoded data removed]",
      "text/plain": [
       "<Figure size 432x288 with 2 Axes>"
      ]
     },
     "metadata": {},
     "output_type": "display_data"
    }
   ],
   "source": [
    "# Histograms & Boxplots\n",
    "\n",
    "############################ Data distribution at every second measured (averaged)\n",
    "timeS_df # 2,672,600 (avg by timestamp, i.e. by each seconds)\n",
    "\n",
    "timeS_mean = timeS_df['AVG(P1)'].mean()\n",
    "timeS_std1 = timeS_mean + timeS_df['AVG(P1)'].std()\n",
    "timeS_std2 = timeS_mean - timeS_df['AVG(P1)'].std()\n",
    "with plt.xkcd():\n",
    "    sns.set_style(\"whitegrid\")\n",
    "\n",
    "    f, (ax_box, ax_hist) = plt.subplots(2, sharex=True, gridspec_kw={\"height_ratios\": (.15, .85)})\n",
    "\n",
    "    ax_box.set(xlabel='Histograms of Measurements, Jan. 2019')\n",
    "    \n",
    "    sns.boxplot(timeS_df['AVG(P1)'], ax=ax_box)\n",
    "    sns.distplot(timeS_df['AVG(P1)'], ax=ax_hist)\n",
    "    plt.axvline(timeS_mean, linestyle=\"dashed\",color='black')\n",
    "    # Adding the standard deviation lines\n",
    "    plt.axvline(timeS_std1, linestyle=\"dotted\",color='black')\n",
    "    plt.axvline(timeS_std2, linestyle=\"dotted\",color='black')\n",
    "    \n",
    "    plt.savefig('outputs/hist_timeS_Lufdaten.png')\n",
    "    \n",
    "############################ Data distribution at every sensor station (averaged)\n",
    "hist_df # 7335 rows (avg by stations)\n",
    "\n",
    "hist_mean = hist_df['AVG(P1)'].mean()\n",
    "hist_std1 = hist_mean + hist_df['AVG(P1)'].std()\n",
    "hist_std2 = hist_mean - hist_df['AVG(P1)'].std()\n",
    "with plt.xkcd():\n",
    "    sns.set_style(\"whitegrid\")\n",
    "\n",
    "    f, (ax_box, ax_hist) = plt.subplots(2, sharex=True, gridspec_kw={\"height_ratios\": (.15, .85)})\n",
    "\n",
    "    ax_box.set(xlabel='Histograms of Measurements, Jan. 2019')\n",
    "    \n",
    "    sns.boxplot(hist_df['AVG(P1)'], ax=ax_box)\n",
    "    sns.distplot(hist_df['AVG(P1)'], ax=ax_hist)\n",
    "    plt.axvline(hist_mean, linestyle=\"dashed\",color='black')\n",
    "    # Adding the standard deviation lines\n",
    "    plt.axvline(hist_std1, linestyle=\"dotted\",color='black')\n",
    "    plt.axvline(hist_std2, linestyle=\"dotted\",color='black')\n",
    "    \n",
    "    plt.savefig('outputs/hist_stations_Lufdaten.png')"
   ]
  },
  {
   "cell_type": "markdown",
   "metadata": {},
   "source": [
    "What the histograms are telling us here is that we've plenty of data points which are outlier values, and may skew our analysis. Marnie mentioned the effect of having many sensors to mitigate for uncalibrated meters or errors, and observing the data's distribution enables us to make determination about the validity of the data and/or particular data points.\n",
    "\n",
    "The first histogram shows distribution of data averaged at every second of measurement. Thus, even if a single sensor is uncalibrated and exaggerates its measurements, we may have plenty of outlier values that need to be removed. However, and this is *important*, we are taking data with no defined geographic boundaries. Thus that single sensor with \"outrageous\" value might be accurate, but may also be the sole representative of its location.\n",
    "\n",
    "Thus, we need to make sure the data is properly distributed and is *representative* of its location. Which is what we can try to deduce from the second histogram, which averages PM2.5 readings per sensor."
   ]
  },
  {
   "cell_type": "markdown",
   "metadata": {},
   "source": [
    "---"
   ]
  },
  {
   "cell_type": "markdown",
   "metadata": {},
   "source": [
    "### II. Mapping the Sensors' Location"
   ]
  },
  {
   "cell_type": "code",
   "execution_count": 47,
   "metadata": {},
   "outputs": [],
   "source": [
    "import plotly.plotly as py\n",
    "import plotly.graph_objs as go\n",
    "\n",
    "fig = go.Figure(\n",
    "    data=[\n",
    "        go.Scattergeo(\n",
    "            lat=map_df.lat,\n",
    "            lon=map_df.lon,\n",
    "            marker={\n",
    "                \"color\": 'blue',\n",
    "                \"line\": {\n",
    "                    \"width\": 1\n",
    "                },\n",
    "                \"size\": 5\n",
    "            },\n",
    "            mode=\"markers+text\",\n",
    "            name=\"\",\n",
    "            textposition=[\"top center\"]\n",
    "        )\n",
    "    ],\n",
    "    layout={\n",
    "        \"title\": \"Sensors\",\n",
    "        \"geo\": {\n",
    "            \"lataxis\": {\n",
    "                \"range\": [-90, 90]\n",
    "            },\n",
    "            \"lonaxis\": {\n",
    "                \"range\": [-180, -180]\n",
    "            },\n",
    "            \"scope\": \"world\"\n",
    "        }\n",
    "    }\n",
    ")\n",
    "\n",
    "\n",
    "\n",
    "url = plotly.offline.plot(fig, filename='sensorMapping_Jan2019.html')"
   ]
  },
  {
   "attachments": {},
   "cell_type": "markdown",
   "metadata": {},
   "source": [
    "![newplot.png](assets/plotlyMap.png)"
   ]
  },
  {
   "cell_type": "markdown",
   "metadata": {},
   "source": [
    "---"
   ]
  },
  {
   "cell_type": "markdown",
   "metadata": {},
   "source": [
    "### III. Proximity to Public Libraries"
   ]
  },
  {
   "cell_type": "markdown",
   "metadata": {},
   "source": [
    "In order to analyze proximity between libraries and sensors, a geographic scope needs to be defined. I have made a determination to confine my analysis to the <span style=\"color:red\">~~lander of Baden-Württemberg~~ city of Stuttgart</span> because 1) it has a high density of sensors, and 2) is more accessible when looking for feature data like public library locations and socio-economic data <span style=\"color:red\">, and 3) due to difficulty acquiring a thorough set of geocentric data of public libraries for the whole region of Baden-Württemberg, I will further limit the geographic scope to a city, albeit a major urban area with plenty of high-density active sensors mapped.</span>"
   ]
  },
  {
   "cell_type": "code",
   "execution_count": 10,
   "metadata": {},
   "outputs": [],
   "source": [
    "sds_df = pd.read_sql_query(\"select sensor_id, AVG(P1), lat, lon from 'table' group by sensor_id\", conn)"
   ]
  },
  {
   "cell_type": "code",
   "execution_count": 61,
   "metadata": {},
   "outputs": [],
   "source": [
    "sds_df.to_csv(\"outputs/sensorCoords.csv\")"
   ]
  },
  {
   "attachments": {},
   "cell_type": "markdown",
   "metadata": {},
   "source": [
    "![Screenshot%20from%202019-02-10%2021-15-16.png](assets/librariesQGIS1.png)\n",
    "\n",
    "Using QGIS, I plotted all libraries in the greater Stuttgart city area (although those points need to be refined to only include public and municipal libraries) along with the location of all active sensors nearby.\n",
    "\n",
    "I then ran a geospatial analysis to assign each sensor to its closest corresponding library (in Euclidean distance); the goal being to identify which libraries have the most sensors located nearby.\n",
    "\n",
    "![Screenshot%20from%202019-02-10%2021-15-44.png](assets/librariesQGIS2.png)\n",
    "\n",
    "I only ran this analysis for illustrative purposes; the data needs to be further cleaned and sensor density =/= to how many sensors are closest to a library.\n",
    "\n",
    "Data source:\n",
    "\n",
    "*OpenStreetMap*\n",
    "\n",
    "*https://mapcruzin.com/free-germany-arcgis-maps-shapefiles.htm*"
   ]
  },
  {
   "cell_type": "markdown",
   "metadata": {},
   "source": [
    "---"
   ]
  },
  {
   "cell_type": "markdown",
   "metadata": {},
   "source": [
    "## Objectives Re-Assessment"
   ]
  },
  {
   "cell_type": "markdown",
   "metadata": {},
   "source": [
    "* The 3 remaining asks can be realistically be completed by the end of Week 2; \n",
    "* I will record how much time is spent on each objective more accurately: using Wakatime for programmatic tasks;\n",
    "* Will develop a presentation format better suited to summarize progress;\n",
    "* Will push to GitHub on a daily basis of the code used for the objectives, as a means of safekeeping and so that my work can be accessed at all time;\n",
    "* I can also publish a copy or formatted version of the Jupyter Notebook file to Caravan Intern's G-Drive or Sharepoint;\n",
    "* The scope of the analysis between air quality and attributes pertaining to socio-economic data will have to be better defined;\n",
    "* The scope of the spatial analysis between libraries and sensors will have to be better defined;\n",
    "* Themes pertaining to EIA will be actively re-incorporated into my assessment of the data."
   ]
  }
 ],
 "metadata": {
  "kernelspec": {
   "display_name": "Python 3",
   "language": "python",
   "name": "python3"
  },
  "language_info": {
   "codemirror_mode": {
    "name": "ipython",
    "version": 3
   },
   "file_extension": ".py",
   "mimetype": "text/x-python",
   "name": "python",
   "nbconvert_exporter": "python",
   "pygments_lexer": "ipython3",
   "version": "3.6.5"
  }
 },
 "nbformat": 4,
 "nbformat_minor": 2
}
